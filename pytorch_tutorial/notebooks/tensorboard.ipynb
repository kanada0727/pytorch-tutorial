{
 "cells": [
  {
   "cell_type": "markdown",
   "id": "united-greensboro",
   "metadata": {},
   "source": [
    "# run tensorboard in notebook"
   ]
  },
  {
   "cell_type": "code",
   "execution_count": null,
   "id": "corrected-fundamentals",
   "metadata": {},
   "outputs": [],
   "source": [
    "# move to project root\n",
    "import os\n",
    "os.chdir(os.environ[\"WORKDIR\"])\n",
    "\n",
    "# load extension\n",
    "%load_ext tensorboard"
   ]
  },
  {
   "cell_type": "code",
   "execution_count": null,
   "id": "enhanced-thong",
   "metadata": {},
   "outputs": [],
   "source": [
    "# launch\n",
    "%tensorboard --logdir ./logs/MNIST/"
   ]
  },
  {
   "cell_type": "code",
   "execution_count": null,
   "id": "royal-animal",
   "metadata": {},
   "outputs": [],
   "source": [
    "# kill prcoess for restart\n",
    "!kill `pgrep tensorboard`"
   ]
  }
 ],
 "metadata": {
  "kernelspec": {
   "display_name": "Python 3",
   "language": "python",
   "name": "python3"
  },
  "language_info": {
   "codemirror_mode": {
    "name": "ipython",
    "version": 3
   },
   "file_extension": ".py",
   "mimetype": "text/x-python",
   "name": "python",
   "nbconvert_exporter": "python",
   "pygments_lexer": "ipython3",
   "version": "3.8.7"
  }
 },
 "nbformat": 4,
 "nbformat_minor": 5
}
